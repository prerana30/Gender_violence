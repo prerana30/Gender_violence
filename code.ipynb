{
 "cells": [
  {
   "cell_type": "code",
   "execution_count": 3,
   "metadata": {},
   "outputs": [],
   "source": [
    "import numpy as np\n",
    "import pandas as pd\n",
    "import matplotlib.pyplot as plt\n",
    "import seaborn as sns\n",
    "\n",
    "\n"
   ]
  },
  {
   "attachments": {},
   "cell_type": "markdown",
   "metadata": {},
   "source": [
    "## **Difference between matplotlib and seaborn**\n",
    "### <p> -Simply matplotlib is used to make graphs and charts whereas seaborn is built on top of matplotlib to create its visualisations using matplotlib.\n",
    "### -Sns provides higher level interface for creating visualisation."
   ]
  },
  {
   "cell_type": "code",
   "execution_count": 6,
   "metadata": {},
   "outputs": [],
   "source": [
    "df= pd.read_csv(r'C:\\Users\\Admin\\Desktop\\violence_data.csv')\n"
   ]
  },
  {
   "attachments": {},
   "cell_type": "markdown",
   "metadata": {},
   "source": [
    "## **You may wonder why r' ?**</br>\n",
    "### <p >It is to specify string literal. If we haven't used r' we had to use '\\\\' (double slash). We are trying to avoid confusion with escape special character which also use backslashes.</p>"
   ]
  },
  {
   "cell_type": "code",
   "execution_count": 7,
   "metadata": {},
   "outputs": [
    {
     "name": "stdout",
     "output_type": "stream",
     "text": [
      "   RecordID      Country Gender Demographics Question  \\\n",
      "0         1  Afghanistan      F        Marital status   \n",
      "1         1  Afghanistan      F             Education   \n",
      "2         1  Afghanistan      F             Education   \n",
      "3         1  Afghanistan      F             Education   \n",
      "4         1  Afghanistan      F        Marital status   \n",
      "\n",
      "          Demographics Response                   Question Survey Year  Value  \n",
      "0                 Never married  ... if she burns the food  01/01/2015    NaN  \n",
      "1                        Higher  ... if she burns the food  01/01/2015   10.1  \n",
      "2                     Secondary  ... if she burns the food  01/01/2015   13.7  \n",
      "3                       Primary  ... if she burns the food  01/01/2015   13.8  \n",
      "4  Widowed, divorced, separated  ... if she burns the food  01/01/2015   13.8  \n"
     ]
    }
   ],
   "source": [
    "print(df.head())\n"
   ]
  },
  {
   "cell_type": "code",
   "execution_count": 8,
   "metadata": {},
   "outputs": [
    {
     "name": "stdout",
     "output_type": "stream",
     "text": [
      "RecordID                   int64\n",
      "Country                   object\n",
      "Gender                    object\n",
      "Demographics Question     object\n",
      "Demographics Response     object\n",
      "Question                  object\n",
      "Survey Year               object\n",
      "Value                    float64\n",
      "dtype: object\n"
     ]
    }
   ],
   "source": [
    "print(df.dtypes)"
   ]
  },
  {
   "attachments": {},
   "cell_type": "markdown",
   "metadata": {},
   "source": [
    "Since the data type of survey year is in string format. If we want to do date-time specific operations like resampling,time-based slicing and more then it's important to covert that data to datetime format."
   ]
  },
  {
   "cell_type": "code",
   "execution_count": 12,
   "metadata": {},
   "outputs": [],
   "source": [
    "df['Survey Year']= pd.to_datetime(df['Survey Year'])"
   ]
  },
  {
   "cell_type": "code",
   "execution_count": 10,
   "metadata": {},
   "outputs": [
    {
     "data": {
      "text/plain": [
       "0        01/01/2015\n",
       "1        01/01/2015\n",
       "2        01/01/2015\n",
       "3        01/01/2015\n",
       "4        01/01/2015\n",
       "            ...    \n",
       "12595    01/01/2015\n",
       "12596    01/01/2015\n",
       "12597    01/01/2015\n",
       "12598    01/01/2015\n",
       "12599    01/01/2015\n",
       "Name: Survey Year, Length: 12600, dtype: object"
      ]
     },
     "execution_count": 10,
     "metadata": {},
     "output_type": "execute_result"
    }
   ],
   "source": [
    "df['Survey Year']"
   ]
  },
  {
   "attachments": {},
   "cell_type": "markdown",
   "metadata": {},
   "source": [
    "To check for missing values. We see missing values for each column using isnull() method. i.e.\n",
    "Why .sum() ?\n",
    "Because sum() will treat true and false boolean value as o and 1. It sums up and returns the count of missing values in each column."
   ]
  },
  {
   "cell_type": "code",
   "execution_count": 11,
   "metadata": {},
   "outputs": [
    {
     "data": {
      "text/plain": [
       "RecordID                    0\n",
       "Country                     0\n",
       "Gender                      0\n",
       "Demographics Question       0\n",
       "Demographics Response       0\n",
       "Question                    0\n",
       "Survey Year                 0\n",
       "Value                    1413\n",
       "dtype: int64"
      ]
     },
     "execution_count": 11,
     "metadata": {},
     "output_type": "execute_result"
    }
   ],
   "source": [
    "df.isnull().sum()"
   ]
  },
  {
   "attachments": {},
   "cell_type": "markdown",
   "metadata": {},
   "source": [
    "Check for duplicates"
   ]
  },
  {
   "cell_type": "code",
   "execution_count": 14,
   "metadata": {},
   "outputs": [
    {
     "data": {
      "text/plain": [
       "0"
      ]
     },
     "execution_count": 14,
     "metadata": {},
     "output_type": "execute_result"
    }
   ],
   "source": [
    "df.duplicated().sum()"
   ]
  },
  {
   "cell_type": "code",
   "execution_count": 15,
   "metadata": {},
   "outputs": [
    {
     "data": {
      "text/html": [
       "<div>\n",
       "<style scoped>\n",
       "    .dataframe tbody tr th:only-of-type {\n",
       "        vertical-align: middle;\n",
       "    }\n",
       "\n",
       "    .dataframe tbody tr th {\n",
       "        vertical-align: top;\n",
       "    }\n",
       "\n",
       "    .dataframe thead th {\n",
       "        text-align: right;\n",
       "    }\n",
       "</style>\n",
       "<table border=\"1\" class=\"dataframe\">\n",
       "  <thead>\n",
       "    <tr style=\"text-align: right;\">\n",
       "      <th></th>\n",
       "      <th>RecordID</th>\n",
       "      <th>Country</th>\n",
       "      <th>Gender</th>\n",
       "      <th>Demographics Question</th>\n",
       "      <th>Demographics Response</th>\n",
       "      <th>Question</th>\n",
       "      <th>Survey Year</th>\n",
       "      <th>Value</th>\n",
       "      <th>year</th>\n",
       "      <th>month</th>\n",
       "      <th>day</th>\n",
       "    </tr>\n",
       "  </thead>\n",
       "  <tbody>\n",
       "    <tr>\n",
       "      <th>0</th>\n",
       "      <td>1</td>\n",
       "      <td>Afghanistan</td>\n",
       "      <td>F</td>\n",
       "      <td>Marital status</td>\n",
       "      <td>Never married</td>\n",
       "      <td>... if she burns the food</td>\n",
       "      <td>2015-01-01</td>\n",
       "      <td>NaN</td>\n",
       "      <td>2015</td>\n",
       "      <td>1</td>\n",
       "      <td>1</td>\n",
       "    </tr>\n",
       "    <tr>\n",
       "      <th>1</th>\n",
       "      <td>1</td>\n",
       "      <td>Afghanistan</td>\n",
       "      <td>F</td>\n",
       "      <td>Education</td>\n",
       "      <td>Higher</td>\n",
       "      <td>... if she burns the food</td>\n",
       "      <td>2015-01-01</td>\n",
       "      <td>10.1</td>\n",
       "      <td>2015</td>\n",
       "      <td>1</td>\n",
       "      <td>1</td>\n",
       "    </tr>\n",
       "    <tr>\n",
       "      <th>2</th>\n",
       "      <td>1</td>\n",
       "      <td>Afghanistan</td>\n",
       "      <td>F</td>\n",
       "      <td>Education</td>\n",
       "      <td>Secondary</td>\n",
       "      <td>... if she burns the food</td>\n",
       "      <td>2015-01-01</td>\n",
       "      <td>13.7</td>\n",
       "      <td>2015</td>\n",
       "      <td>1</td>\n",
       "      <td>1</td>\n",
       "    </tr>\n",
       "    <tr>\n",
       "      <th>3</th>\n",
       "      <td>1</td>\n",
       "      <td>Afghanistan</td>\n",
       "      <td>F</td>\n",
       "      <td>Education</td>\n",
       "      <td>Primary</td>\n",
       "      <td>... if she burns the food</td>\n",
       "      <td>2015-01-01</td>\n",
       "      <td>13.8</td>\n",
       "      <td>2015</td>\n",
       "      <td>1</td>\n",
       "      <td>1</td>\n",
       "    </tr>\n",
       "    <tr>\n",
       "      <th>4</th>\n",
       "      <td>1</td>\n",
       "      <td>Afghanistan</td>\n",
       "      <td>F</td>\n",
       "      <td>Marital status</td>\n",
       "      <td>Widowed, divorced, separated</td>\n",
       "      <td>... if she burns the food</td>\n",
       "      <td>2015-01-01</td>\n",
       "      <td>13.8</td>\n",
       "      <td>2015</td>\n",
       "      <td>1</td>\n",
       "      <td>1</td>\n",
       "    </tr>\n",
       "  </tbody>\n",
       "</table>\n",
       "</div>"
      ],
      "text/plain": [
       "   RecordID      Country Gender Demographics Question  \\\n",
       "0         1  Afghanistan      F        Marital status   \n",
       "1         1  Afghanistan      F             Education   \n",
       "2         1  Afghanistan      F             Education   \n",
       "3         1  Afghanistan      F             Education   \n",
       "4         1  Afghanistan      F        Marital status   \n",
       "\n",
       "          Demographics Response                   Question Survey Year  Value  \\\n",
       "0                 Never married  ... if she burns the food  2015-01-01    NaN   \n",
       "1                        Higher  ... if she burns the food  2015-01-01   10.1   \n",
       "2                     Secondary  ... if she burns the food  2015-01-01   13.7   \n",
       "3                       Primary  ... if she burns the food  2015-01-01   13.8   \n",
       "4  Widowed, divorced, separated  ... if she burns the food  2015-01-01   13.8   \n",
       "\n",
       "   year  month  day  \n",
       "0  2015      1    1  \n",
       "1  2015      1    1  \n",
       "2  2015      1    1  \n",
       "3  2015      1    1  \n",
       "4  2015      1    1  "
      ]
     },
     "execution_count": 15,
     "metadata": {},
     "output_type": "execute_result"
    }
   ],
   "source": [
    "df['year'] = df['Survey Year'].dt.year\n",
    "df['month'] = df['Survey Year'].dt.month\n",
    "df['day'] = df['Survey Year'].dt.day\n",
    "df.head()"
   ]
  },
  {
   "attachments": {},
   "cell_type": "markdown",
   "metadata": {},
   "source": [
    "We split year,month and day for easierness using .dt attribute."
   ]
  },
  {
   "cell_type": "code",
   "execution_count": 16,
   "metadata": {},
   "outputs": [
    {
     "data": {
      "text/plain": [
       "2013    1980\n",
       "2015    1800\n",
       "2014    1620\n",
       "2016    1440\n",
       "2017    1260\n",
       "2012    1080\n",
       "2011     720\n",
       "2008     540\n",
       "2006     360\n",
       "2018     360\n",
       "2010     180\n",
       "2002     180\n",
       "2009     180\n",
       "2005     180\n",
       "2003     180\n",
       "2001     180\n",
       "2000     180\n",
       "2007     180\n",
       "Name: year, dtype: int64"
      ]
     },
     "execution_count": 16,
     "metadata": {},
     "output_type": "execute_result"
    }
   ],
   "source": [
    "df[\"year\"].value_counts()"
   ]
  },
  {
   "cell_type": "code",
   "execution_count": 18,
   "metadata": {},
   "outputs": [],
   "source": [
    "df= df.rename(columns={'Survey year': 'survey','Demographics Question': 'demoQ','Demographics Response': 'demoR'})"
   ]
  },
  {
   "cell_type": "code",
   "execution_count": null,
   "metadata": {},
   "outputs": [],
   "source": [
    "df= "
   ]
  }
 ],
 "metadata": {
  "kernelspec": {
   "display_name": "Python 3",
   "language": "python",
   "name": "python3"
  },
  "language_info": {
   "codemirror_mode": {
    "name": "ipython",
    "version": 3
   },
   "file_extension": ".py",
   "mimetype": "text/x-python",
   "name": "python",
   "nbconvert_exporter": "python",
   "pygments_lexer": "ipython3",
   "version": "3.10.5"
  },
  "orig_nbformat": 4
 },
 "nbformat": 4,
 "nbformat_minor": 2
}
