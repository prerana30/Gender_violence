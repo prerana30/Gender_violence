{
 "cells": [
  {
   "cell_type": "code",
   "execution_count": 5,
   "metadata": {},
   "outputs": [],
   "source": [
    "import numpy as np\n",
    "import pandas as pd\n",
    "import matplotlib.pyplot as plt\n",
    "import seaborn as sns\n",
    "\n",
    "\n"
   ]
  },
  {
   "attachments": {},
   "cell_type": "markdown",
   "metadata": {},
   "source": [
    "## **Difference between matplotlib and seaborn**\n",
    "### <p> -Simply matplotlib is used to make graphs and charts whereas seaborn is built on top of matplotlib to create its visualisations using matplotlib.\n",
    "### -Sns provides higher level interface for creating visualisation."
   ]
  },
  {
   "cell_type": "code",
   "execution_count": 6,
   "metadata": {},
   "outputs": [],
   "source": [
    "df= pd.read_csv(r'C:\\Users\\Admin\\Desktop\\violence_data.csv')\n"
   ]
  },
  {
   "attachments": {},
   "cell_type": "markdown",
   "metadata": {},
   "source": [
    "## **You may wonder why r' ?**</br>\n",
    "### <p >It is to specify string literal. If we haven't used r' we had to use '\\\\' (double slash). We are trying to avoid confusion with escape special character which also use backslashes.</p>"
   ]
  },
  {
   "cell_type": "code",
   "execution_count": 7,
   "metadata": {},
   "outputs": [
    {
     "name": "stdout",
     "output_type": "stream",
     "text": [
      "   RecordID      Country Gender Demographics Question  \\\n",
      "0         1  Afghanistan      F        Marital status   \n",
      "1         1  Afghanistan      F             Education   \n",
      "2         1  Afghanistan      F             Education   \n",
      "3         1  Afghanistan      F             Education   \n",
      "4         1  Afghanistan      F        Marital status   \n",
      "\n",
      "          Demographics Response                   Question Survey Year  Value  \n",
      "0                 Never married  ... if she burns the food  01/01/2015    NaN  \n",
      "1                        Higher  ... if she burns the food  01/01/2015   10.1  \n",
      "2                     Secondary  ... if she burns the food  01/01/2015   13.7  \n",
      "3                       Primary  ... if she burns the food  01/01/2015   13.8  \n",
      "4  Widowed, divorced, separated  ... if she burns the food  01/01/2015   13.8  \n"
     ]
    }
   ],
   "source": [
    "print(df.head())\n"
   ]
  },
  {
   "cell_type": "code",
   "execution_count": 8,
   "metadata": {},
   "outputs": [
    {
     "name": "stdout",
     "output_type": "stream",
     "text": [
      "RecordID                   int64\n",
      "Country                   object\n",
      "Gender                    object\n",
      "Demographics Question     object\n",
      "Demographics Response     object\n",
      "Question                  object\n",
      "Survey Year               object\n",
      "Value                    float64\n",
      "dtype: object\n"
     ]
    }
   ],
   "source": [
    "print(df.dtypes)"
   ]
  },
  {
   "attachments": {},
   "cell_type": "markdown",
   "metadata": {},
   "source": [
    "Since the data type of survey year is in string format. If we want to do date-time specific operations like resampling,time-based slicing and more then it's important to covert that data to datetime format."
   ]
  },
  {
   "cell_type": "code",
   "execution_count": 10,
   "metadata": {},
   "outputs": [],
   "source": [
    "df['Survey Year']= pd.to_datetime(df['Survey Year'])"
   ]
  },
  {
   "cell_type": "code",
   "execution_count": 12,
   "metadata": {},
   "outputs": [
    {
     "data": {
      "text/plain": [
       "0       2015-01-01\n",
       "1       2015-01-01\n",
       "2       2015-01-01\n",
       "3       2015-01-01\n",
       "4       2015-01-01\n",
       "           ...    \n",
       "12595   2015-01-01\n",
       "12596   2015-01-01\n",
       "12597   2015-01-01\n",
       "12598   2015-01-01\n",
       "12599   2015-01-01\n",
       "Name: Survey Year, Length: 12600, dtype: datetime64[ns]"
      ]
     },
     "execution_count": 12,
     "metadata": {},
     "output_type": "execute_result"
    }
   ],
   "source": [
    "df['Survey Year']"
   ]
  },
  {
   "attachments": {},
   "cell_type": "markdown",
   "metadata": {},
   "source": [
    "To check for missing values. We see missing values for each column using isnull() method. i.e.\n",
    "Why .sum() ?\n",
    "Because sum() will treat true and false boolean value as o and 1. It sums up and returns the count of missing values in each column."
   ]
  },
  {
   "cell_type": "code",
   "execution_count": 13,
   "metadata": {},
   "outputs": [
    {
     "data": {
      "text/plain": [
       "RecordID                    0\n",
       "Country                     0\n",
       "Gender                      0\n",
       "Demographics Question       0\n",
       "Demographics Response       0\n",
       "Question                    0\n",
       "Survey Year                 0\n",
       "Value                    1413\n",
       "dtype: int64"
      ]
     },
     "execution_count": 13,
     "metadata": {},
     "output_type": "execute_result"
    }
   ],
   "source": [
    "df.isnull().sum()"
   ]
  },
  {
   "attachments": {},
   "cell_type": "markdown",
   "metadata": {},
   "source": [
    "Check for duplicates"
   ]
  },
  {
   "cell_type": "code",
   "execution_count": 14,
   "metadata": {},
   "outputs": [
    {
     "data": {
      "text/plain": [
       "0"
      ]
     },
     "execution_count": 14,
     "metadata": {},
     "output_type": "execute_result"
    }
   ],
   "source": [
    "df.duplicated().sum()"
   ]
  }
 ],
 "metadata": {
  "kernelspec": {
   "display_name": "Python 3",
   "language": "python",
   "name": "python3"
  },
  "language_info": {
   "codemirror_mode": {
    "name": "ipython",
    "version": 3
   },
   "file_extension": ".py",
   "mimetype": "text/x-python",
   "name": "python",
   "nbconvert_exporter": "python",
   "pygments_lexer": "ipython3",
   "version": "3.10.5"
  },
  "orig_nbformat": 4
 },
 "nbformat": 4,
 "nbformat_minor": 2
}
